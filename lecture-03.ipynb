{
 "cells": [
  {
   "cell_type": "markdown",
   "metadata": {},
   "source": [
    "# Lecture 03: Introduction to modeling natural selection\n",
    "\n",
    "### Modeling natural selection in a real population\n",
    "\n",
    "In a famous early quantitative example of natural selection, [Fisher and Ford](https://www.nature.com/articles/hdy194711) examined the behavior of the _medionigra_ allele in moths near Oxford, England. \n",
    "\n",
    "Below, we'll compare predictions of genotype/allele frequency change with data to try to estimate the type and strength of selection that may have been acting on this allele at the time. The _medionigra_ allele is rare enough that we can assume that essentially all moths with this allele are heterozygotes. The moths reproduce once per year.\n",
    "\n",
    "As a reminder, the expected change in the frequency of a genotype $G$ in one generation due to natural selection alone is\n",
    "\n",
    "$$\\Delta p_G = \\frac{w_G - \\bar{w}}{\\bar{w}}\\,,\\qquad \\bar{w} = \\sum_G p_G\\,w_G\\,.$$\n",
    "\n",
    "This expression can also be used to estimate the change in allele frequencies by noting how allele frequencies are related to genotype frequencies.\n",
    "\n",
    "First, let's start by plotting the _medionigra_ allele frequency over time. The code cell below records the measured allele frequency (estimated from captured moths) over the course of several years and displays this in a plot."
   ]
  },
  {
   "cell_type": "code",
   "execution_count": null,
   "metadata": {},
   "outputs": [],
   "source": [
    "# Import libraries for plotting/data\n",
    "\n",
    "import seaborn as sns            # import seaborn\n",
    "import matplotlib.pyplot as plt  # and matplotlib\n",
    "\n",
    "import numpy as np\n",
    "\n",
    "# medionigra allele frequency\n",
    "\n",
    "year = np.arange(1939, 1961, 1)\n",
    "freq = [0.09, 0.11, 0.068, 0.052, 0.056, 0.042, 0.062, 0.05, 0.04, 0.038, 0.03, 0.04, 0.028, 0.039, 0.028, 0.03,\n",
    "        0.01, 0.03, 0.042, 0.04, 0.022, 0.02]\n",
    "\n",
    "sns.lineplot(x=year, y=freq, label='data')\n",
    "plt.xlabel('Year')\n",
    "plt.ylabel('Allele frequency')\n",
    "plt.ylim(0, 0.12);"
   ]
  },
  {
   "cell_type": "code",
   "execution_count": null,
   "metadata": {},
   "outputs": [],
   "source": [
    "\n",
    "\n",
    "\n",
    "\n",
    "\n",
    "\n",
    "\n",
    "\n",
    "\n",
    "\n",
    "\n",
    "\n",
    "\n",
    "\n",
    "\n",
    "\n",
    "\n",
    "\n",
    "\n",
    "\n",
    "\n",
    "\n"
   ]
  },
  {
   "cell_type": "markdown",
   "metadata": {},
   "source": [
    "Now, let's simulate how the _medionigra_ allele frequency should change over time, assuming that all of these alleles are found in heterozygotes. Here we can make our calculations a bit simpler by remembering that, ignoring genetic drift, if the current frequency of genotype $G$ is $p_G$ and its fitness is $w_G$, then its frequency after one round of selection will be\n",
    "\n",
    "$$ p^\\prime_G = \\frac{w_G}{\\bar{w}}p_G\\,.$$\n",
    "\n",
    "If the post-selection heterozygote frequency is small ($p^\\prime_G$ here), then the heterozygote frequency in newborns will also be approximately the same as this, and we can skip the random mating step with little error.\n",
    "\n",
    "We can then plot the allele frequency over time using different choices for the heterozygote fitness to see what kinds of values match best with the data."
   ]
  },
  {
   "cell_type": "code",
   "execution_count": null,
   "metadata": {},
   "outputs": [],
   "source": [
    "# Let's write a function to perform the simulation\n",
    "# We can arbitrarily set the wild-type (WT) fitness to 1\n",
    "# Then, given the current heterozygote frequency and its fitness, we compute the frequency in the next generation\n",
    "\n",
    "def evolve(p, w):\n",
    "    w_bar = FILL IN # compute the average fitness\n",
    "    return w*p/w_bar"
   ]
  },
  {
   "cell_type": "code",
   "execution_count": null,
   "metadata": {},
   "outputs": [],
   "source": [
    "# Make an initial choice for the heterozygote fitness and frequency\n",
    "\n",
    "p = 0.2  # heterozygote frequency, NOTE that allele frequency is HALF of this\n",
    "w = 1  # heterozygote fitness, relative to WT w = 1\n",
    "\n",
    "\n",
    "# Simulate evolution over the time range above\n",
    "\n",
    "freq_sim = [p/2]  # simulated allele frequency over time\n",
    "\n",
    "for i in range(len(year)-1):\n",
    "    p = evolve(p, w)\n",
    "    freq_sim.append(p/2)\n",
    "    \n",
    "    \n",
    "# Plot the result\n",
    "\n",
    "sns.lineplot(x=year, y=freq, label='data')\n",
    "sns.lineplot(x=year, y=freq_sim, label='simulation, w=%.2f' % w)\n",
    "plt.xlabel('Year')\n",
    "plt.ylabel('Allele frequency')\n",
    "plt.ylim(0, 0.12);"
   ]
  },
  {
   "cell_type": "code",
   "execution_count": null,
   "metadata": {},
   "outputs": [],
   "source": [
    "\n",
    "\n",
    "\n",
    "\n",
    "\n",
    "\n",
    "\n",
    "\n",
    "\n",
    "\n",
    "\n",
    "\n",
    "\n",
    "\n",
    "\n",
    "\n",
    "\n",
    "\n",
    "\n",
    "\n",
    "\n",
    "\n"
   ]
  },
  {
   "cell_type": "markdown",
   "metadata": {},
   "source": [
    "**Discussion.** Ultimately, you likely found a value of the heterozygote fitness that fits pretty well with the data. This was a simple exercise, but if this was a real experiment, what additional factors would you consider? Do you think that our analysis above allows us to make a reasonable guess at the fitness advantage or disadvantage of the _medionigra_ allele?"
   ]
  },
  {
   "cell_type": "code",
   "execution_count": null,
   "metadata": {},
   "outputs": [],
   "source": [
    "\n",
    "\n",
    "\n",
    "\n",
    "\n",
    "\n",
    "\n",
    "\n",
    "\n",
    "\n",
    "\n",
    "\n",
    "\n",
    "\n",
    "\n",
    "\n",
    "\n",
    "\n",
    "\n",
    "\n",
    "\n",
    "\n"
   ]
  }
 ],
 "metadata": {
  "kernelspec": {
   "display_name": "Python 3 (ipykernel)",
   "language": "python",
   "name": "python3"
  },
  "language_info": {
   "codemirror_mode": {
    "name": "ipython",
    "version": 3
   },
   "file_extension": ".py",
   "mimetype": "text/x-python",
   "name": "python",
   "nbconvert_exporter": "python",
   "pygments_lexer": "ipython3",
   "version": "3.9.16"
  },
  "toc": {
   "base_numbering": 1,
   "nav_menu": {},
   "number_sections": true,
   "sideBar": true,
   "skip_h1_title": false,
   "title_cell": "Table of Contents",
   "title_sidebar": "Contents",
   "toc_cell": false,
   "toc_position": {},
   "toc_section_display": true,
   "toc_window_display": false
  }
 },
 "nbformat": 4,
 "nbformat_minor": 2
}
