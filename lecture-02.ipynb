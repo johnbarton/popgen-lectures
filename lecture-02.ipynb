{
 "cells": [
  {
   "cell_type": "markdown",
   "metadata": {},
   "source": [
    "# Lecture 02: Production and decay of neutral variation\n",
    "\n",
    "### Genetic variation in the infinite alleles model\n",
    "\n",
    "We saw that genetic drift removes genetic variation over time as alleles fix or are lost. Mutation helps to counteract this progressive loss by introducing new genetic variation into populations.\n",
    "\n",
    "One model for this process is the [infinite allele model](https://en.wikipedia.org/wiki/Infinite_alleles_model), where we assume that there is some rate $2u$ for mutations per reproduction cycle (so $2Nu$ over a population of $N$ individuals), and that each mutation results in a new allele. Kimura and Crow used this model to predict homozygosity and the number of alleles maintained in a population. Specifically, the probability $G$ that an individual is homozygous is predicted to be \n",
    "\n",
    "$$ G = \\frac{1}{1 + 4 N u}\\,, $$\n",
    "\n",
    "and (the lower bound for) the number of alleles $n$ maintained in the population is \n",
    "\n",
    "$$ n \\sim \\frac{1}{G} = 1 + 4 N u\\,. $$\n",
    "\n",
    "Below, we'll write some code to simulate this model and to check its predictions using different values for the population size and mutation rate."
   ]
  },
  {
   "cell_type": "code",
   "execution_count": null,
   "metadata": {},
   "outputs": [],
   "source": [
    "# Import libraries for the simulation\n",
    "\n",
    "import numpy as np\n",
    "import numpy.random as rng\n",
    "\n",
    "# First, let's write down the parameters of the model\n",
    "# As before, choose your own values!\n",
    "\n",
    "N = 100  # population size\n",
    "u = 0.05  # rate of (neutral) mutations\n",
    "n_g = 1000  # number of generations to simulate\n",
    "\n",
    "\n",
    "# Next, let's make some lists to store data from the simulation\n",
    "    \n",
    "homozygosity = np.zeros(n_g)  # homozygosity of the population at each time\n",
    "num_alleles = np.zeros(n_g)  # total number of alleles in the population at each time"
   ]
  },
  {
   "cell_type": "code",
   "execution_count": null,
   "metadata": {},
   "outputs": [],
   "source": [
    "# Now, let's write the simulation itself\n",
    "# There are many ways to do this, but we could start by making a list where each entry in the\n",
    "# list corresponds to a different allele, and the number of individuals with that allele is the\n",
    "# element in the list. We'll write a loop, where during each loop we'll propagate the population,\n",
    "# count the number of mutations, and add that many new alleles to the population (while removing\n",
    "# some of the old ones to compensate). \n",
    "\n",
    "# Option 1 -- start with no variation\n",
    "allele_n = [2*N]  # each entry in the list is an allele, and the number\n",
    "                  # stored there is the number of that allele in the population\n",
    "    \n",
    "# Option 2 -- start with a certain number of alleles, with even numbers of each\n",
    "num = 10  # number of starting alleles\n",
    "allele_n = [2*N/num]*num\n",
    "\n",
    "\n",
    "# Before getting to the simulation, let's also help ourselves out by writing a function to\n",
    "# compute homozygosity from a list of allele numbers\n",
    "\n",
    "def get_h(alleles):\n",
    "    p = np.array(alleles)/np.sum(alleles)\n",
    "    h = 0\n",
    "    for i in range(len(p)):\n",
    "        h += p[i]**2\n",
    "    return h\n",
    "\n",
    "\n",
    "# Finally, let's continue on to the simulation\n",
    "\n",
    "for i in range(n_g):\n",
    "    \n",
    "    # First, store the homozygosity and number of alleles\n",
    "    homozygosity[i] = get_h(allele_n)\n",
    "    num_alleles[i] = len(allele_n)\n",
    "    \n",
    "    # Next, check to see how many new mutations there are\n",
    "    new_alleles = rng.binomial(n=2*N, p=u)\n",
    "    \n",
    "    # Next, update the number of alleles after reproduction\n",
    "    new_allele_n = list(rng.multinomial(n=2*N-new_alleles, pvals=np.array(allele_n)/np.sum(allele_n)))\n",
    "    \n",
    "    # Add new alleles to the end of the list\n",
    "    for j in range(new_alleles):\n",
    "        new_allele_n.append(1)\n",
    "        \n",
    "    # Get rid of alleles that have disappeared (allele_n[i]==0)\n",
    "    new_allele_n = np.array(new_allele_n)[np.array(new_allele_n)>0]\n",
    "    \n",
    "    # Now update the population\n",
    "    allele_n = new_allele_n"
   ]
  },
  {
   "cell_type": "markdown",
   "metadata": {},
   "source": [
    "Now that we've simulated the infinite alleles model, let's plot the results and see how they compare to our expectations from theory (i.e., $G=1/(1+4 N u)$ and $n\\geq 1 + 4Nu$)."
   ]
  },
  {
   "cell_type": "code",
   "execution_count": null,
   "metadata": {},
   "outputs": [],
   "source": [
    "# Import libraries for plotting\n",
    "\n",
    "import seaborn as sns            # import seaborn\n",
    "import matplotlib.pyplot as plt  # and matplotlib\n",
    "\n",
    "# First, let's plot homozygosity vs. expectations from theory\n",
    "\n",
    "G_theory = 1 / (1 + (4*N*u))\n",
    "plt.hlines(y=G_theory, xmin=0, xmax=n_g, label='theory', color='black', ls='--')\n",
    "\n",
    "sns.lineplot(x=np.arange(n_g), y=homozygosity, label='simulation')\n",
    "plt.xlabel('Time (generations)')\n",
    "plt.ylabel('Homozygosity, G')\n",
    "plt.ylim(0, 1.1*np.max(homozygosity));"
   ]
  },
  {
   "cell_type": "code",
   "execution_count": null,
   "metadata": {},
   "outputs": [],
   "source": [
    "# Next, let's plot the number of alleles vs. (lower bound) expectations from theory\n",
    "\n",
    "n_theory = 1 + (4*N*u)\n",
    "plt.hlines(y=n_theory, xmin=0, xmax=n_g, label='theory', color='black', ls='--')\n",
    "\n",
    "sns.lineplot(x=np.arange(n_g), y=num_alleles, label='simulation')\n",
    "plt.xlabel('Time (generations)')\n",
    "plt.ylabel('Number of alleles, n')\n",
    "plt.ylim(0, 1.1*np.max(num_alleles));"
   ]
  },
  {
   "cell_type": "code",
   "execution_count": null,
   "metadata": {},
   "outputs": [],
   "source": [
    "\n",
    "\n",
    "\n",
    "\n",
    "\n",
    "\n",
    "\n",
    "\n",
    "\n",
    "\n",
    "\n",
    "\n",
    "\n",
    "\n",
    "\n",
    "\n",
    "\n",
    "\n",
    "\n",
    "\n",
    "\n",
    "\n"
   ]
  }
 ],
 "metadata": {
  "kernelspec": {
   "display_name": "Python 3 (ipykernel)",
   "language": "python",
   "name": "python3"
  },
  "language_info": {
   "codemirror_mode": {
    "name": "ipython",
    "version": 3
   },
   "file_extension": ".py",
   "mimetype": "text/x-python",
   "name": "python",
   "nbconvert_exporter": "python",
   "pygments_lexer": "ipython3",
   "version": "3.10.9"
  },
  "toc": {
   "base_numbering": 1,
   "nav_menu": {},
   "number_sections": true,
   "sideBar": true,
   "skip_h1_title": false,
   "title_cell": "Table of Contents",
   "title_sidebar": "Contents",
   "toc_cell": false,
   "toc_position": {},
   "toc_section_display": true,
   "toc_window_display": false
  }
 },
 "nbformat": 4,
 "nbformat_minor": 2
}
