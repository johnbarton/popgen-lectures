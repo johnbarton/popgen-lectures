{
 "cells": [
  {
   "cell_type": "markdown",
   "metadata": {},
   "source": [
    "# Lecture 05: Genetic linkage and its effects\n",
    "\n",
    "### Reduction in diversity near a beneficial mutation after a selective sweep\n",
    "\n",
    "One dramatic consequence of genetic linkage is that neutral alleles near an allele under selection can dramatically increase (or decrease) in frequency due to linkage disequilibrium. This process is called [genetic hitchhiking](https://en.wikipedia.org/wiki/Genetic_hitchhiking). \n",
    "\n",
    "Here, we will simulate loss of diversity at a neutral locus at various \"distances\" (measured by the ratio of the recombination probability $r$ and the selection coefficient of the beneficial allele, $s$) from an allele undergoing a selective sweep. \n",
    "\n",
    "To make our analysis simpler, we'll consider a haploid model instead of diploids. In this model we consider two loci, labeled 1 and 2, which can have either A or B alleles. We'll assume that the B allele at site 1 is beneficial with selection coefficient $s$, and both alleles at site 2 are neutral. The fitness values of the different genotypes are then\n",
    "\n",
    "$$w_{BA} = w_{BB} = 1 + s, \\quad w_{AA} = w_{AB} = 1\\,.$$\n",
    "\n",
    "Recall that under the Wright-Fisher model, the change in genotype frequency after selection is\n",
    "\n",
    "$$ p^\\prime_G = \\frac{w_G}{\\bar{w}}p_G\\, \\quad \\bar{w} = \\sum_G w_G p_G\\,. $$\n",
    "\n",
    "If the population is haploid, then this is also the change in genotype frequencies after one generation.\n",
    "\n",
    "Now we will add recombination to this model. The probability of recombination per reproductive cycle is $r$, and the recombination partner is chosen at random from the population. The probability of producing a particular genotype $G = \\{g_1, g_2\\}$ through recombination is equal to the product of the corresponding allele frequences at sites one and two, $p_1(g_1)\\,p_2(g_2)$. So, combining selection and recombination the change in genotype frequencies between successive generations is\n",
    "\n",
    "$$ p^\\prime_G = \\left(1 - r\\right) \\frac{w_G}{\\bar{w}} p_G + r\\, p_1(g_1)\\, p_2(g_2)\\,. $$\n",
    "\n",
    "With this model in hand, we can simulate how genetic diversity will change a the neutral locus two due to linkage with locus one. As in the book, let's assume that one copy of the beneficial B allele at site one appears together with an A allele at site two, and the initial allele frequency at site two is $p_2(A) = p_2(B) = 1/2$. This choice is arbitrary; the beneficial allele could just as well have appeared together with a B allele at site two. "
   ]
  },
  {
   "cell_type": "code",
   "execution_count": null,
   "metadata": {},
   "outputs": [],
   "source": [
    "import numpy as np          # here we import numpy\n",
    "import numpy.random as rng  # and here we import the random number generation (sub-)library\n",
    "\n",
    "\n",
    "# Set the starting parameters for the simulations\n",
    "\n",
    "N    = 2*1000        # population size -- this should be divisible by 2\n",
    "s    = 0.01          # selection coefficient for B at site 1\n",
    "n_BA = 1             # starting number of BA genotypes\n",
    "n_AA = N/2 - n_BA    # starting number of AA genotypes\n",
    "n_AB = N/2           # starting number of AB genotypes\n",
    "n_BB = 0             # starting number of BB genotypes\n",
    "w_BA = w_BB = 1 + s  # fitness with beneficial alleles\n",
    "w_AA = w_AB = 1      # fitness with neutral alleles only\n",
    "p_end = 0.999        # run the simulation until the beneficial allele is >= this frequency"
   ]
  },
  {
   "cell_type": "code",
   "execution_count": null,
   "metadata": {},
   "outputs": [],
   "source": [
    "# Parameters used to iterate over and store our results\n",
    "\n",
    "r    = np.arange(0, 0.5*s + 0.01*s, 0.01*s)  # recombination probability values\n",
    "h    = np.zeros(len(r))            # final \"heterozygosity\" values\n",
    "p_AA = (n_AA/N) * np.ones_like(r)  # AA frequency\n",
    "p_AB = (n_AB/N) * np.ones_like(r)  # AB frequency\n",
    "p_BA = (n_BA/N) * np.ones_like(r)  # BA frequency\n",
    "p_BB = (n_BB/N) * np.ones_like(r)  # BB frequency\n",
    "p_1A = p_AA + p_AB  # frequency of A at site 1\n",
    "p_1B = p_BA + p_BB  # frequency of B at site 1\n",
    "p_2A = p_AA + p_BA  # frequency of A at site 2\n",
    "p_2B = p_AB + p_BB  # frequency of B at site 2\n",
    "h0   = p_2A[0] * p_2B[0]  # initial heterozygosity at site two\n",
    "\n",
    "for i in range(len(r)):\n",
    "\n",
    "    while p_1B[i] < p_end:\n",
    "        \n",
    "        # Get new genotype frequencies\n",
    "        w_bar = (w_AA * p_AA[i]) + (w_AB * p_AB[i]) + (w_BA * p_BA[i]) + (w_BB * p_BB[i])\n",
    "        new_p_AA = (1 - r[i])*w_AA*p_AA[i]/w_bar + r[i] * p_1A[i] * p_2A[i]\n",
    "        new_p_AB = (1 - r[i])*w_AB*p_AB[i]/w_bar + r[i] * p_1A[i] * p_2B[i]\n",
    "        new_p_BA = (1 - r[i])*w_BA*p_BA[i]/w_bar + r[i] * p_1B[i] * p_2A[i]\n",
    "        new_p_BB = (1 - r[i])*w_BB*p_BB[i]/w_bar + r[i] * p_1B[i] * p_2B[i]\n",
    "        \n",
    "        # Overwrite old genotype frequencies\n",
    "        p_AA[i] = new_p_AA\n",
    "        p_AB[i] = new_p_AB\n",
    "        p_BA[i] = new_p_BA\n",
    "        p_BB[i] = new_p_BB\n",
    "        \n",
    "        # Overwrite old allele frequencies\n",
    "        p_1A[i] = p_AA[i] + p_AB[i]\n",
    "        p_1B[i] = p_BA[i] + p_BB[i]\n",
    "        p_2A[i] = p_AA[i] + p_BA[i]\n",
    "        p_2B[i] = p_AB[i] + p_BB[i]\n",
    "\n",
    "    # After the B allele at site one sweeps, save the scaled heterozygosity at site 2\n",
    "    h[i] = p_2A[i] * p_2B[i] / h0"
   ]
  },
  {
   "cell_type": "code",
   "execution_count": null,
   "metadata": {},
   "outputs": [],
   "source": [
    "# Finally, let's make a plot\n",
    "\n",
    "import seaborn as sns            # import seaborn\n",
    "import matplotlib.pyplot as plt  # and matplotlib\n",
    "\n",
    "\n",
    "# As in the textbook, we can reflect the \"heterozygosity\" scores around a distance of zero\n",
    "\n",
    "r_r = list(-np.array(list(r[1:][::-1]))) + list(r)\n",
    "h_r = list(h[1:][::-1]) + list(h)\n",
    "\n",
    "\n",
    "# Plot the results\n",
    "sns.lineplot(x=np.array(r_r)/s, y=h_r)\n",
    "    \n",
    "\n",
    "plt.xlabel('Distance (r/s)')\n",
    "plt.ylabel('Heterozygosity')\n",
    "plt.xlim(-0.5, 0.5)\n",
    "plt.ylim(0, 1);"
   ]
  },
  {
   "cell_type": "code",
   "execution_count": null,
   "metadata": {},
   "outputs": [],
   "source": [
    "\n",
    "\n",
    "\n",
    "\n",
    "\n",
    "\n",
    "\n",
    "\n",
    "\n",
    "\n",
    "\n",
    "\n",
    "\n",
    "\n",
    "\n",
    "\n",
    "\n",
    "\n",
    "\n",
    "\n",
    "\n",
    "\n"
   ]
  },
  {
   "cell_type": "markdown",
   "metadata": {},
   "source": [
    "**Discussion.** How does the plot above change as we vary $N$ and $s$? What does that tell us about the effective of genetic hitchhiking in different scenarios?"
   ]
  },
  {
   "cell_type": "code",
   "execution_count": null,
   "metadata": {},
   "outputs": [],
   "source": []
  }
 ],
 "metadata": {
  "kernelspec": {
   "display_name": "Python 3 (ipykernel)",
   "language": "python",
   "name": "python3"
  },
  "language_info": {
   "codemirror_mode": {
    "name": "ipython",
    "version": 3
   },
   "file_extension": ".py",
   "mimetype": "text/x-python",
   "name": "python",
   "nbconvert_exporter": "python",
   "pygments_lexer": "ipython3",
   "version": "3.9.16"
  },
  "toc": {
   "base_numbering": 1,
   "nav_menu": {},
   "number_sections": true,
   "sideBar": true,
   "skip_h1_title": false,
   "title_cell": "Table of Contents",
   "title_sidebar": "Contents",
   "toc_cell": false,
   "toc_position": {},
   "toc_section_display": true,
   "toc_window_display": false
  }
 },
 "nbformat": 4,
 "nbformat_minor": 2
}
